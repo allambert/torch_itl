{
 "cells": [
  {
   "cell_type": "code",
   "execution_count": 1,
   "metadata": {},
   "outputs": [],
   "source": [
    "import os\n",
    "import json\n",
    "import torch\n",
    "import numpy as np\n",
    "import matplotlib.pyplot as plt\n",
    "from torch_itl import model, sampler, cost, kernel, estimator"
   ]
  },
  {
   "cell_type": "markdown",
   "metadata": {},
   "source": [
    "### Set paths and load model config / ckpt"
   ]
  },
  {
   "cell_type": "code",
   "execution_count": 4,
   "metadata": {},
   "outputs": [
    {
     "name": "stdout",
     "output_type": "stream",
     "text": [
      "./LS_Experiments/KDEF_itl_model_20201208-162928/model/itl_model_config_20201208-162928.json ./LS_Experiments/KDEF_itl_model_20201208-162928/model/itl_model_ckpt_20201208-162928.pt\n"
     ]
    }
   ],
   "source": [
    "# Set trained model paths\n",
    "base_experiment_path = './LS_Experiments'\n",
    "model_name = 'KDEF_itl_model_20201208-162928'\n",
    "\n",
    "# get model config and ckpt\n",
    "base_model_path = os.path.join(base_experiment_path, model_name, 'model/')\n",
    "for fname in os.listdir(base_model_path):\n",
    "    if ('config' in fname) and (fname.split('.')[-1] == 'json'):\n",
    "        model_config_path = os.path.join(base_model_path, fname)\n",
    "    elif ('ckpt' in fname) and (fname.split('.')[-1] == 'pt'):\n",
    "        model_ckpt_path = os.path.join(base_model_path, fname)\n",
    "    else:\n",
    "        print(fname, 'does not exist')\n",
    "print(model_config_path, model_ckpt_path)\n",
    "\n",
    "# load ckpt and json\n",
    "with open(model_config_path, 'r') as f:\n",
    "    model_config = json.load(f)\n"
   ]
  },
  {
   "cell_type": "code",
   "execution_count": 7,
   "metadata": {},
   "outputs": [
    {
     "data": {
      "text/plain": [
       "{'n': 126,\n",
       " 'm': 7,\n",
       " 'nf': 136,\n",
       " 'input_data_version': 'facealigner',\n",
       " 'dataset': 'KDEF',\n",
       " 'theta_type': 'aff',\n",
       " 'include_neutral': True}"
      ]
     },
     "execution_count": 7,
     "metadata": {},
     "output_type": "execute_result"
    }
   ],
   "source": [
    "model_config['Data']"
   ]
  },
  {
   "cell_type": "markdown",
   "metadata": {},
   "source": [
    "### Read data"
   ]
  },
  {
   "cell_type": "code",
   "execution_count": 9,
   "metadata": {},
   "outputs": [
    {
     "name": "stdout",
     "output_type": "stream",
     "text": [
      "Reading data\n"
     ]
    },
    {
     "ename": "TypeError",
     "evalue": "kdef_landmarks_facealigner() got an unexpected keyword argument 'inp_emotion'",
     "output_type": "error",
     "traceback": [
      "\u001b[0;31m-----------------------------------------------------------\u001b[0m",
      "\u001b[0;31mTypeError\u001b[0m                 Traceback (most recent call last)",
      "\u001b[0;32m<ipython-input-9-fac1f342183b>\u001b[0m in \u001b[0;36m<module>\u001b[0;34m\u001b[0m\n\u001b[1;32m     18\u001b[0m         \u001b[0;32mfrom\u001b[0m \u001b[0mdatasets\u001b[0m\u001b[0;34m.\u001b[0m\u001b[0mdatasets\u001b[0m \u001b[0;32mimport\u001b[0m \u001b[0mkdef_landmarks_facealigner\u001b[0m\u001b[0;34m\u001b[0m\u001b[0;34m\u001b[0m\u001b[0m\n\u001b[1;32m     19\u001b[0m         \u001b[0mx_train\u001b[0m\u001b[0;34m,\u001b[0m \u001b[0my_train\u001b[0m\u001b[0;34m,\u001b[0m \u001b[0mx_test\u001b[0m\u001b[0;34m,\u001b[0m \u001b[0my_test\u001b[0m\u001b[0;34m,\u001b[0m \u001b[0mtrain_list\u001b[0m\u001b[0;34m,\u001b[0m \u001b[0mtest_list\u001b[0m \u001b[0;34m=\u001b[0m\u001b[0;31m \u001b[0m\u001b[0;31m\\\u001b[0m\u001b[0;34m\u001b[0m\u001b[0;34m\u001b[0m\u001b[0m\n\u001b[0;32m---> 20\u001b[0;31m             \u001b[0mkdef_landmarks_facealigner\u001b[0m\u001b[0;34m(\u001b[0m\u001b[0mdata_path\u001b[0m\u001b[0;34m,\u001b[0m \u001b[0minp_emotion\u001b[0m\u001b[0;34m=\u001b[0m\u001b[0minp_emotion\u001b[0m\u001b[0;34m,\u001b[0m \u001b[0minc_emotion\u001b[0m\u001b[0;34m=\u001b[0m\u001b[0minc_neutral\u001b[0m\u001b[0;34m)\u001b[0m\u001b[0;34m\u001b[0m\u001b[0;34m\u001b[0m\u001b[0m\n\u001b[0m\u001b[1;32m     21\u001b[0m     \u001b[0;32melif\u001b[0m \u001b[0mdataset\u001b[0m \u001b[0;34m==\u001b[0m \u001b[0;34m'Rafd'\u001b[0m\u001b[0;34m:\u001b[0m\u001b[0;34m\u001b[0m\u001b[0;34m\u001b[0m\u001b[0m\n\u001b[1;32m     22\u001b[0m         \u001b[0;32mfrom\u001b[0m \u001b[0mdatasets\u001b[0m\u001b[0;34m.\u001b[0m\u001b[0mdatasets\u001b[0m \u001b[0;32mimport\u001b[0m \u001b[0mrafd_landmarks_facealigner\u001b[0m\u001b[0;34m\u001b[0m\u001b[0;34m\u001b[0m\u001b[0m\n",
      "\u001b[0;31mTypeError\u001b[0m: kdef_landmarks_facealigner() got an unexpected keyword argument 'inp_emotion'"
     ]
    }
   ],
   "source": [
    "# ----------------------------------\n",
    "# Reading input/output data\n",
    "# ----------------------------------\n",
    "dataset = model_config['Data']['dataset']  \n",
    "theta_type = model_config['Data']['theta_type']\n",
    "inp_emotion = model_config['Data']['input_data_version'] \n",
    "inc_neutral = model_config['Data']['include_neutral']  \n",
    "use_facealigner = True if model_config['Data']['input_data_version'] == 'facealigner' else False\n",
    "\n",
    "data_path = './datasets/' + dataset + '_Aligned/' + dataset +'_LANDMARKS'  # set data path\n",
    "if dataset == 'Rafd':\n",
    "    # dirty hack only used to get Rafd speaker ids, not continuously ordered\n",
    "    data_csv_path = '/home/mlpboon/Downloads/Rafd/Rafd.csv'\n",
    "\n",
    "print('Reading data')\n",
    "if use_facealigner:\n",
    "    if dataset == 'KDEF':\n",
    "        from datasets.datasets import kdef_landmarks_facealigner\n",
    "        x_train, y_train, x_test, y_test, train_list, test_list = \\\n",
    "            kdef_landmarks_facealigner(data_path, inp_emotion=inp_emotion, inc_emotion=inc_neutral)\n",
    "    elif dataset == 'Rafd':\n",
    "        from datasets.datasets import rafd_landmarks_facealigner\n",
    "        x_train, y_train, x_test, y_test, train_list, test_list = \\\n",
    "            rafd_landmarks_facealigner(data_path, data_csv_path, inc_emotion=inc_neutral)\n",
    "else:\n",
    "    from datasets.datasets import import_kdef_landmark_synthesis\n",
    "    x_train, y_train, x_test, y_test = import_kdef_landmark_synthesis(dtype=input_data_version)\n",
    "\n",
    "n = x_train.shape[0]\n",
    "m = y_train.shape[1]\n",
    "nf = y_train.shape[2]\n",
    "print('data dimensions', n, m, nf, inp_emotion)"
   ]
  },
  {
   "cell_type": "code",
   "execution_count": 117,
   "metadata": {},
   "outputs": [],
   "source": [
    "x_train_joint = y_train.reshape(-1,nf)\n",
    "y_train_joint = torch.zeros(m*n, m, nf)\n",
    "for i in range(m*n):\n",
    "    y_train_joint[i] = y_train[i//7]"
   ]
  },
  {
   "cell_type": "code",
   "execution_count": 144,
   "metadata": {},
   "outputs": [
    {
     "data": {
      "text/plain": [
       "tensor([ 1.9434, -3.4994, -1.1163])"
      ]
     },
     "execution_count": 144,
     "metadata": {},
     "output_type": "execute_result"
    }
   ],
   "source": [
    "a = torch.randn(3,4)\n",
    "a.sum(axis=1)"
   ]
  },
  {
   "cell_type": "code",
   "execution_count": 118,
   "metadata": {},
   "outputs": [],
   "source": [
    "x_test_joint = y_test.reshape(-1,nf)\n",
    "n_test = x_test_joint.shape[0]\n",
    "y_test_joint = torch.zeros(m*n_test, m, nf)\n",
    "for i in range(m*n_test):\n",
    "    y_train_joint[i] = y_train[i//7]"
   ]
  },
  {
   "cell_type": "code",
   "execution_count": 119,
   "metadata": {},
   "outputs": [],
   "source": [
    "# set ITL model\n",
    "assert model_config['Kernels']['kernel_input_learnable'] == False\n",
    "kernel_input = kernel.Gaussian(model_config['Kernels']['gamma_inp'])\n",
    "kernel_output = kernel.Gaussian(model_config['Kernels']['gamma_out'])\n",
    "kernel_freq = np.eye(nf) # can be added to ckpt or manually set as np.load(kernel_file)\n",
    "\n",
    "# define emotion sampler - this can also be added to ckpt\n",
    "if model_config['Data']['theta_type'] == 'aff':\n",
    "    from datasets.datasets import import_affectnet_va_embedding\n",
    "    affect_net_csv_path = ''  # to be set if theta_type == 'aff'\n",
    "    aff_emo_dict = import_affectnet_va_embedding(affect_net_csv_path)\n",
    "    \n",
    "    if dataset == 'KDEF':\n",
    "        aff_emo_match = {'NE': 'Neutral',\n",
    "                         'HA': 'Happy',\n",
    "                         'SA': 'Sad',\n",
    "                         'SU': 'Surprise',\n",
    "                         'AF': 'Fear',\n",
    "                         'DI': 'Disgust',\n",
    "                         'AN': 'Anger',\n",
    "                         }\n",
    "    elif dataset == 'Rafd':\n",
    "        aff_emo_match = {'neutral': 'Neutral',\n",
    "                         'happy': 'Happy',\n",
    "                         'sad': 'Sad',\n",
    "                         'surprised': 'Surprise',\n",
    "                         'fearful': 'Fear',\n",
    "                         'disgusted': 'Disgust',\n",
    "                         'angry': 'Anger',\n",
    "                         'contemptous': 'Contempt'\n",
    "                         }    \n",
    "    \n",
    "    \n",
    "    sampler_ = sampler.CircularSampler(data=dataset+theta_type,\n",
    "                                       inp_emotion=aff_emo_match[inp_emotion],\n",
    "                                       inc_emotion=inc_neutral,\n",
    "                                       sample_dict=aff_emo_dict)\n",
    "elif theta_type == '':\n",
    "    sampler_ = sampler.CircularSampler(data=dataset,\n",
    "                                       inc_neutral=inc_neutral)\n",
    "sampler_.m = m\n",
    "\n",
    "itl_model = model.SpeechSynthesisKernelModel(kernel_input, kernel_output,\n",
    "                                             kernel_freq=torch.from_numpy(kernel_freq).float())"
   ]
  },
  {
   "cell_type": "markdown",
   "metadata": {},
   "source": [
    "### Load model and predict"
   ]
  },
  {
   "cell_type": "code",
   "execution_count": 5,
   "metadata": {},
   "outputs": [],
   "source": [
    "ckpt = torch.load(model_ckpt_path)\n",
    "itl_model.test_mode(x_train=x_train_joint, thetas=sampler_.sample(m), alpha=ckpt['itl_alpha'])"
   ]
  },
  {
   "cell_type": "code",
   "execution_count": 6,
   "metadata": {},
   "outputs": [
    {
     "name": "stdout",
     "output_type": "stream",
     "text": [
      "cost test: tensor(0.0365)\n",
      "0, 0.036, 0.043\n",
      "1, 0.022, 0.036\n",
      "2, 0.028, 0.039\n",
      "3, 0.032, 0.078\n",
      "4, 0.027, 0.071\n",
      "5, 0.026, 0.052\n",
      "6, 0.018, 0.038\n",
      "0.027, 0.051\n"
     ]
    }
   ],
   "source": [
    "# compute cost\n",
    "cost_pred = cost.speech_synth_loss(y_test, pred_test, sampler_.sample(m))\n",
    "print('cost test:', cost_pred)\n",
    "\n",
    "# compute expected euclidean distance between samples and mean for each emotion\n",
    "var_gt_em = 0\n",
    "var_test_em = 0\n",
    "var_gt = 0\n",
    "var_test = 0\n",
    "for i in range(m):\n",
    "    var_gt_em = np.sum(np.var(y_test[:,i,:].numpy(), axis=0))\n",
    "    var_test_em = np.sum(np.var(pred_test[:,i,:].numpy(), axis=0))\n",
    "    var_gt += var_gt_em\n",
    "    var_test += var_test_em\n",
    "    print('{:d}, {:.3f}, {:.3f}'.format(i, var_gt_em, var_test_em))\n",
    "print('{:.3f}, {:.3f}'.format(var_gt/m, var_test/m))"
   ]
  },
  {
   "cell_type": "code",
   "execution_count": null,
   "metadata": {},
   "outputs": [],
   "source": []
  },
  {
   "cell_type": "code",
   "execution_count": null,
   "metadata": {},
   "outputs": [],
   "source": [
    "xv2.diagonal(), xv1"
   ]
  },
  {
   "cell_type": "code",
   "execution_count": null,
   "metadata": {},
   "outputs": [],
   "source": [
    "pred_test = itl_model.forward(x_test_joint, sampler_.sample(m))"
   ]
  },
  {
   "cell_type": "code",
   "execution_count": 138,
   "metadata": {},
   "outputs": [
    {
     "data": {
      "text/plain": [
       "tensor([[0.0254, 0.0527],\n",
       "        [0.0269, 0.0656],\n",
       "        [0.0294, 0.0779],\n",
       "        [0.0317, 0.0902],\n",
       "        [0.0354, 0.1019],\n",
       "        [0.0418, 0.1123],\n",
       "        [0.0512, 0.1208],\n",
       "        [0.0622, 0.1273],\n",
       "        [0.0749, 0.1292],\n",
       "        [0.0877, 0.1270],\n",
       "        [0.0989, 0.1202],\n",
       "        [0.1082, 0.1117],\n",
       "        [0.1146, 0.1011],\n",
       "        [0.1179, 0.0894],\n",
       "        [0.1200, 0.0771],\n",
       "        [0.1220, 0.0646],\n",
       "        [0.1231, 0.0517],\n",
       "        [0.0326, 0.0441],\n",
       "        [0.0384, 0.0378],\n",
       "        [0.0473, 0.0352],\n",
       "        [0.0566, 0.0350],\n",
       "        [0.0656, 0.0374],\n",
       "        [0.0808, 0.0376],\n",
       "        [0.0897, 0.0351],\n",
       "        [0.0990, 0.0351],\n",
       "        [0.1078, 0.0376],\n",
       "        [0.1141, 0.0438],\n",
       "        [0.0730, 0.0490],\n",
       "        [0.0731, 0.0580],\n",
       "        [0.0733, 0.0670],\n",
       "        [0.0733, 0.0762],\n",
       "        [0.0639, 0.0812],\n",
       "        [0.0685, 0.0830],\n",
       "        [0.0737, 0.0846],\n",
       "        [0.0788, 0.0829],\n",
       "        [0.0836, 0.0810],\n",
       "        [0.0428, 0.0517],\n",
       "        [0.0482, 0.0476],\n",
       "        [0.0550, 0.0478],\n",
       "        [0.0608, 0.0531],\n",
       "        [0.0545, 0.0544],\n",
       "        [0.0477, 0.0542],\n",
       "        [0.0861, 0.0531],\n",
       "        [0.0919, 0.0478],\n",
       "        [0.0987, 0.0475],\n",
       "        [0.1042, 0.0517],\n",
       "        [0.0991, 0.0543],\n",
       "        [0.0923, 0.0543],\n",
       "        [0.0551, 0.0980],\n",
       "        [0.0612, 0.0932],\n",
       "        [0.0684, 0.0913],\n",
       "        [0.0742, 0.0924],\n",
       "        [0.0798, 0.0910],\n",
       "        [0.0873, 0.0927],\n",
       "        [0.0935, 0.0974],\n",
       "        [0.0877, 0.1050],\n",
       "        [0.0805, 0.1085],\n",
       "        [0.0744, 0.1092],\n",
       "        [0.0682, 0.1086],\n",
       "        [0.0611, 0.1054],\n",
       "        [0.0583, 0.0982],\n",
       "        [0.0684, 0.0961],\n",
       "        [0.0742, 0.0964],\n",
       "        [0.0799, 0.0959],\n",
       "        [0.0904, 0.0978],\n",
       "        [0.0801, 0.1016],\n",
       "        [0.0743, 0.1022],\n",
       "        [0.0684, 0.1017]])"
      ]
     },
     "execution_count": 138,
     "metadata": {},
     "output_type": "execute_result"
    }
   ],
   "source": [
    "check_output = pred_test*128\n",
    "check_output[0,0].reshape(68,2)"
   ]
  },
  {
   "cell_type": "code",
   "execution_count": 143,
   "metadata": {},
   "outputs": [
    {
     "data": {
      "image/png": "[encoded data removed]",
      "text/plain": [
       "<Figure size 432x288 with 1 Axes>"
      ]
     },
     "metadata": {
      "needs_background": "light"
     },
     "output_type": "display_data"
    }
   ],
   "source": [
    "%matplotlib inline\n",
    "plt_x = x_test[0].numpy().reshape(68, 2)\n",
    "plt_xt = pred_test[1, 4].detach().numpy().reshape(68, 2)\n",
    "if use_facealigner:\n",
    "    plt_x = plt_x * 128\n",
    "    plt_xt = plt_xt * 128\n",
    "plt_uv = plt_xt - plt_x\n",
    "plt.quiver(plt_x[:, 0], plt_x[:, 1], plt_uv[:, 0], plt_uv[:, 1], angles='xy')\n",
    "ax = plt.gca()\n",
    "ax.invert_yaxis()\n",
    "plt.show()"
   ]
  },
  {
   "cell_type": "markdown",
   "metadata": {},
   "source": [
    "### Continuous generation"
   ]
  },
  {
   "cell_type": "code",
   "execution_count": null,
   "metadata": {},
   "outputs": [],
   "source": [
    "def circular_sampling(theta1, theta2, num_samples):\n",
    "    angle1 = np.arctan2(theta1[1], theta1[0])\n",
    "    angle2 = np.arctan2(theta2[1], theta2[0])\n",
    "    angle1 = angle1 if angle1>=0 else angle1+(2*np.pi)\n",
    "    angle2 = angle2 if angle2>=0 else angle2+(2*np.pi)\n",
    "    \n",
    "    reverse = False\n",
    "    if angle1>angle2:\n",
    "        start = angle2; end = angle1\n",
    "        reverse = True\n",
    "    else:\n",
    "        start = angle1; end = angle2\n",
    "        \n",
    "    sampled_angles = np.linspace(start=start, stop=end, num=num_samples, endpoint=True)\n",
    "    sample_coords = np.vstack((np.cos(sampled_angles), np.sin(sampled_angles))).T\n",
    "    \n",
    "    if reverse:\n",
    "        return np.flipud(sample_coords)\n",
    "    else:\n",
    "        return sample_coords\n",
    "\n",
    "def radial_sampling(theta, num_samples):\n",
    "    angle = np.arctan2(theta[1], theta[0])\n",
    "    sampled_radii = np.linspace(start=0, stop=1, num=num_samples, endpoint=True)\n",
    "    sample_coords = np.vstack((sampled_radii*np.cos(angle), sampled_radii*np.sin(angle))).T\n",
    "    return sample_coords\n",
    "\n",
    "\n",
    "class EdgeMap(object):\n",
    "    def __init__(self, out_res, num_parts=3):\n",
    "        self.out_res = out_res\n",
    "        self.num_parts = num_parts\n",
    "        self.groups = [\n",
    "            [np.arange(0, 17, 1), 255],\n",
    "            [np.arange(17, 22, 1), 255],\n",
    "            [np.arange(22, 27, 1), 255],\n",
    "            [np.arange(27, 31, 1), 255],\n",
    "            [np.arange(31, 36, 1), 255],\n",
    "            [list(np.arange(36, 42, 1)) + [36], 255],\n",
    "            [list(np.arange(42, 48, 1)) + [42], 255],\n",
    "            [list(np.arange(48, 60, 1)) + [48], 255],\n",
    "            [list(np.arange(60, 68, 1)) + [60], 255]\n",
    "        ]\n",
    "\n",
    "    def __call__(self, shape):\n",
    "        image = np.zeros((self.out_res, self.out_res, self.num_parts), dtype=np.float32)\n",
    "        for g in self.groups:\n",
    "            for i in range(len(g[0]) - 1):\n",
    "                start = int(shape[g[0][i]][0]), int(shape[g[0][i]][1])\n",
    "                end = int(shape[g[0][i + 1]][0]), int(shape[g[0][i + 1]][1])\n",
    "                cv2.line(image, start, end, g[1], 1)\n",
    "        return image"
   ]
  },
  {
   "cell_type": "code",
   "execution_count": null,
   "metadata": {},
   "outputs": [],
   "source": [
    "import cv2\n",
    "sampling_type = 'radial'\n",
    "num_samples = 8\n",
    "ckpt = torch.load(model_ckpt_path)\n",
    "itl_model.test_mode(x_train=x_train_joint, thetas=sampler_.sample(m), alpha=ckpt['itl_alpha'])\n",
    "if sampling_type == 'circular':\n",
    "    sampled_emotions = circular_sampling(aff_emo_dict['Happy'], aff_emo_dict['Surprise'], num_samples)\n",
    "elif sampling_type == 'radial':\n",
    "    sampled_emotions = radial_sampling(aff_emo_dict['Anger'], num_samples)\n",
    "EM = EdgeMap(out_res=128, num_parts=1)"
   ]
  },
  {
   "cell_type": "code",
   "execution_count": null,
   "metadata": {},
   "outputs": [],
   "source": [
    "%matplotlib inline\n",
    "for i in range(len(sampled_emotions)):\n",
    "    pred_test = itl_model.forward(x_test_joint, torch.from_numpy(sampled_emotions[i][np.newaxis]).float())\n",
    "    im_em = EM(pred_test[0, 0].detach().numpy().reshape(68,2)*128)\n",
    "    plt.imshow(np.squeeze(im_em))\n",
    "    plt.pause(0.5)"
   ]
  },
  {
   "cell_type": "markdown",
   "metadata": {},
   "source": [
    "### Behaviour of the classifier"
   ]
  },
  {
   "cell_type": "code",
   "execution_count": null,
   "metadata": {},
   "outputs": [],
   "source": [
    "%matplotlib inline\n",
    "import torchvision.transforms as transforms\n",
    "from torchvision.utils import make_grid, save_image\n",
    "def show(img):\n",
    "    npimg = img.numpy()\n",
    "    plt.imshow(np.transpose(npimg, (1,2,0)), interpolation='nearest')\n",
    "imlist = []\n",
    "for i in range(len(sampled_emotions)):\n",
    "    pred_test = itl_model.forward(x_test_joint, torch.from_numpy(sampled_emotions[i][np.newaxis]).float())\n",
    "    im_em = EM(pred_test[0, 0].detach().numpy().reshape(68,2)*128)\n",
    "    imlist.append(transforms.ToTensor()(im_em.copy()))\n",
    "    #imlist.append(transforms.ToTensor()(im_em.copy()))\n",
    "#show(make_grid(imlist, nrow=10, padding=10, pad_value=1))\n",
    "#save_image(imlist, 'radial_happy_to_surprise.jpg', nrow=10, padding=10, pad_value=1)"
   ]
  },
  {
   "cell_type": "code",
   "execution_count": null,
   "metadata": {},
   "outputs": [
    {
     "ename": "FileNotFoundError",
     "evalue": "[Errno 2] No such file or directory: ''",
     "output_type": "error",
     "traceback": [
      "\u001b[0;31m-----------------------------------------\u001b[0m",
      "\u001b[0;31mFileNotFoundError\u001b[0mTraceback (most recent call last)",
      "\u001b[0;32m<ipython-input-132-4a76c49f72d7>\u001b[0m in \u001b[0;36m<module>\u001b[0;34m\u001b[0m\n\u001b[1;32m     24\u001b[0m \u001b[0;31m# Get ResNet and load wts\u001b[0m\u001b[0;34m\u001b[0m\u001b[0;34m\u001b[0m\u001b[0;34m\u001b[0m\u001b[0m\n\u001b[1;32m     25\u001b[0m \u001b[0memo_model_ft\u001b[0m \u001b[0;34m=\u001b[0m \u001b[0mmodel\u001b[0m\u001b[0;34m(\u001b[0m\u001b[0;34m'resnet-18'\u001b[0m\u001b[0;34m,\u001b[0m \u001b[0mnum_classes\u001b[0m\u001b[0;34m)\u001b[0m\u001b[0;34m\u001b[0m\u001b[0;34m\u001b[0m\u001b[0m\n\u001b[0;32m---> 26\u001b[0;31m \u001b[0memo_model_ft\u001b[0m\u001b[0;34m.\u001b[0m\u001b[0mload_state_dict\u001b[0m\u001b[0;34m(\u001b[0m\u001b[0mtorch\u001b[0m\u001b[0;34m.\u001b[0m\u001b[0mload\u001b[0m\u001b[0;34m(\u001b[0m\u001b[0mMODEL_PATH\u001b[0m\u001b[0;34m,\u001b[0m \u001b[0mmap_location\u001b[0m\u001b[0;34m=\u001b[0m\u001b[0;32mlambda\u001b[0m \u001b[0mstorage\u001b[0m\u001b[0;34m,\u001b[0m \u001b[0mloc\u001b[0m\u001b[0;34m:\u001b[0m \u001b[0mstorage\u001b[0m\u001b[0;34m)\u001b[0m\u001b[0;34m)\u001b[0m\u001b[0;34m\u001b[0m\u001b[0;34m\u001b[0m\u001b[0m\n\u001b[0m\u001b[1;32m     27\u001b[0m \u001b[0memo_model_ft\u001b[0m \u001b[0;34m=\u001b[0m \u001b[0memo_model_ft\u001b[0m\u001b[0;34m.\u001b[0m\u001b[0mto\u001b[0m\u001b[0;34m(\u001b[0m\u001b[0mdevice\u001b[0m\u001b[0;34m)\u001b[0m\u001b[0;34m\u001b[0m\u001b[0;34m\u001b[0m\u001b[0m\n\u001b[1;32m     28\u001b[0m \u001b[0memo_model_ft\u001b[0m\u001b[0;34m.\u001b[0m\u001b[0meval\u001b[0m\u001b[0;34m(\u001b[0m\u001b[0;34m)\u001b[0m\u001b[0;34m\u001b[0m\u001b[0;34m\u001b[0m\u001b[0m\n",
      "\u001b[0;32m~/anaconda3/lib/python3.7/site-packages/torch/serialization.py\u001b[0m in \u001b[0;36mload\u001b[0;34m(f, map_location, pickle_module, **pickle_load_args)\u001b[0m\n\u001b[1;32m    579\u001b[0m         \u001b[0mpickle_load_args\u001b[0m\u001b[0;34m[\u001b[0m\u001b[0;34m'encoding'\u001b[0m\u001b[0;34m]\u001b[0m \u001b[0;34m=\u001b[0m \u001b[0;34m'utf-8'\u001b[0m\u001b[0;34m\u001b[0m\u001b[0;34m\u001b[0m\u001b[0m\n\u001b[1;32m    580\u001b[0m \u001b[0;34m\u001b[0m\u001b[0m\n\u001b[0;32m--> 581\u001b[0;31m     \u001b[0;32mwith\u001b[0m \u001b[0m_open_file_like\u001b[0m\u001b[0;34m(\u001b[0m\u001b[0mf\u001b[0m\u001b[0;34m,\u001b[0m \u001b[0;34m'rb'\u001b[0m\u001b[0;34m)\u001b[0m \u001b[0;32mas\u001b[0m \u001b[0mopened_file\u001b[0m\u001b[0;34m:\u001b[0m\u001b[0;34m\u001b[0m\u001b[0;34m\u001b[0m\u001b[0m\n\u001b[0m\u001b[1;32m    582\u001b[0m         \u001b[0;32mif\u001b[0m \u001b[0m_is_zipfile\u001b[0m\u001b[0;34m(\u001b[0m\u001b[0mopened_file\u001b[0m\u001b[0;34m)\u001b[0m\u001b[0;34m:\u001b[0m\u001b[0;34m\u001b[0m\u001b[0;34m\u001b[0m\u001b[0m\n\u001b[1;32m    583\u001b[0m             \u001b[0;31m# The zipfile reader is going to advance the current file position.\u001b[0m\u001b[0;34m\u001b[0m\u001b[0;34m\u001b[0m\u001b[0;34m\u001b[0m\u001b[0m\n",
      "\u001b[0;32m~/anaconda3/lib/python3.7/site-packages/torch/serialization.py\u001b[0m in \u001b[0;36m_open_file_like\u001b[0;34m(name_or_buffer, mode)\u001b[0m\n\u001b[1;32m    228\u001b[0m \u001b[0;32mdef\u001b[0m \u001b[0m_open_file_like\u001b[0m\u001b[0;34m(\u001b[0m\u001b[0mname_or_buffer\u001b[0m\u001b[0;34m,\u001b[0m \u001b[0mmode\u001b[0m\u001b[0;34m)\u001b[0m\u001b[0;34m:\u001b[0m\u001b[0;34m\u001b[0m\u001b[0;34m\u001b[0m\u001b[0m\n\u001b[1;32m    229\u001b[0m     \u001b[0;32mif\u001b[0m \u001b[0m_is_path\u001b[0m\u001b[0;34m(\u001b[0m\u001b[0mname_or_buffer\u001b[0m\u001b[0;34m)\u001b[0m\u001b[0;34m:\u001b[0m\u001b[0;34m\u001b[0m\u001b[0;34m\u001b[0m\u001b[0m\n\u001b[0;32m--> 230\u001b[0;31m         \u001b[0;32mreturn\u001b[0m \u001b[0m_open_file\u001b[0m\u001b[0;34m(\u001b[0m\u001b[0mname_or_buffer\u001b[0m\u001b[0;34m,\u001b[0m \u001b[0mmode\u001b[0m\u001b[0;34m)\u001b[0m\u001b[0;34m\u001b[0m\u001b[0;34m\u001b[0m\u001b[0m\n\u001b[0m\u001b[1;32m    231\u001b[0m     \u001b[0;32melse\u001b[0m\u001b[0;34m:\u001b[0m\u001b[0;34m\u001b[0m\u001b[0;34m\u001b[0m\u001b[0m\n\u001b[1;32m    232\u001b[0m         \u001b[0;32mif\u001b[0m \u001b[0;34m'w'\u001b[0m \u001b[0;32min\u001b[0m \u001b[0mmode\u001b[0m\u001b[0;34m:\u001b[0m\u001b[0;34m\u001b[0m\u001b[0;34m\u001b[0m\u001b[0m\n",
      "\u001b[0;32m~/anaconda3/lib/python3.7/site-packages/torch/serialization.py\u001b[0m in \u001b[0;36m__init__\u001b[0;34m(self, name, mode)\u001b[0m\n\u001b[1;32m    209\u001b[0m \u001b[0;32mclass\u001b[0m \u001b[0m_open_file\u001b[0m\u001b[0;34m(\u001b[0m\u001b[0m_opener\u001b[0m\u001b[0;34m)\u001b[0m\u001b[0;34m:\u001b[0m\u001b[0;34m\u001b[0m\u001b[0;34m\u001b[0m\u001b[0m\n\u001b[1;32m    210\u001b[0m     \u001b[0;32mdef\u001b[0m \u001b[0m__init__\u001b[0m\u001b[0;34m(\u001b[0m\u001b[0mself\u001b[0m\u001b[0;34m,\u001b[0m \u001b[0mname\u001b[0m\u001b[0;34m,\u001b[0m \u001b[0mmode\u001b[0m\u001b[0;34m)\u001b[0m\u001b[0;34m:\u001b[0m\u001b[0;34m\u001b[0m\u001b[0;34m\u001b[0m\u001b[0m\n\u001b[0;32m--> 211\u001b[0;31m         \u001b[0msuper\u001b[0m\u001b[0;34m(\u001b[0m\u001b[0m_open_file\u001b[0m\u001b[0;34m,\u001b[0m \u001b[0mself\u001b[0m\u001b[0;34m)\u001b[0m\u001b[0;34m.\u001b[0m\u001b[0m__init__\u001b[0m\u001b[0;34m(\u001b[0m\u001b[0mopen\u001b[0m\u001b[0;34m(\u001b[0m\u001b[0mname\u001b[0m\u001b[0;34m,\u001b[0m \u001b[0mmode\u001b[0m\u001b[0;34m)\u001b[0m\u001b[0;34m)\u001b[0m\u001b[0;34m\u001b[0m\u001b[0;34m\u001b[0m\u001b[0m\n\u001b[0m\u001b[1;32m    212\u001b[0m \u001b[0;34m\u001b[0m\u001b[0m\n\u001b[1;32m    213\u001b[0m     \u001b[0;32mdef\u001b[0m \u001b[0m__exit__\u001b[0m\u001b[0;34m(\u001b[0m\u001b[0mself\u001b[0m\u001b[0;34m,\u001b[0m \u001b[0;34m*\u001b[0m\u001b[0margs\u001b[0m\u001b[0;34m)\u001b[0m\u001b[0;34m:\u001b[0m\u001b[0;34m\u001b[0m\u001b[0;34m\u001b[0m\u001b[0m\n",
      "\u001b[0;31mFileNotFoundError\u001b[0m: [Errno 2] No such file or directory: ''"
     ]
    }
   ],
   "source": [
    "from torchvision import models\n",
    "import torch.nn as nn\n",
    "import torch.nn.functional as F\n",
    "\n",
    "device = torch.device(\"cuda:0\" if torch.cuda.is_available() else \"cpu\")\n",
    "if dataset == 'KDEF':\n",
    "    num_classes = 8\n",
    "    MODEL_PATH = ''\n",
    "elif dataset == 'Rafd':\n",
    "    num_classes = 8\n",
    "    MODEL_PATH = './utils/landmark_utils/Classification/LndExperiments/Rafd_bs16_e10_20201118-055249'\n",
    "\n",
    "# model def\n",
    "def model(model_name, num_classes):\n",
    "    if model_name == 'resnet-18':\n",
    "        model_ft = models.resnet18(pretrained=False)\n",
    "        model_ft.conv1 = nn.Conv2d(1, 64, kernel_size=7, stride=2, padding=3,\n",
    "                                   bias=False)\n",
    "        num_ftrs = model_ft.fc.in_features\n",
    "        model_ft.fc = nn.Linear(num_ftrs, num_classes)\n",
    "    return model_ft\n",
    "\n",
    "\n",
    "# Get ResNet and load wts\n",
    "emo_model_ft = model('resnet-18', num_classes)\n",
    "emo_model_ft.load_state_dict(torch.load(MODEL_PATH, map_location=lambda storage, loc: storage))\n",
    "emo_model_ft = emo_model_ft.to(device)\n",
    "emo_model_ft.eval()\n",
    "\n",
    "inputs = F.interpolate(torch.stack(imlist), size=224, mode='bilinear')\n",
    "outputs = emo_model_ft(inputs/255.)\n",
    "sout = nn.functional.softmax(outputs, dim=1)\n",
    "sout_np = sout.detach().numpy()"
   ]
  },
  {
   "cell_type": "markdown",
   "metadata": {},
   "source": [
    "### Generate combined continuous generation and classifier behaviour"
   ]
  },
  {
   "cell_type": "code",
   "execution_count": null,
   "metadata": {},
   "outputs": [],
   "source": [
    "if dataset == 'Rafd':\n",
    "    plt_emo_labels = ['angry', 'contempt', 'disgusted', 'fearful', 'happy', 'neutral', 'sad', 'surprised']\n",
    "elif dataset == 'KDEF':\n",
    "    plt_emo_labels = ['AF', 'AN', 'DI', 'HA', 'NE', 'SA', 'SU']    \n",
    "rows = 2\n",
    "columns = 8\n",
    "fig=plt.figure(figsize=(32,8))\n",
    "gs = fig.add_gridspec(3, 8)\n",
    "for i in range(1, rows*columns + 1):\n",
    "    if i <=(rows*columns/2):\n",
    "        fig.add_subplot(gs[0:2, i-1])\n",
    "        plt.imshow(np.squeeze(imlist[i-1].numpy()), cmap='gray')\n",
    "        plt.yticks([])\n",
    "        plt.xticks([])\n",
    "    else:\n",
    "        fig.add_subplot(gs[2:, int(i-(rows*columns/2)-1)])\n",
    "        plt.imshow(sout.detach().numpy()[int(i-1-(rows*columns/2))][:,np.newaxis], cmap='Reds', interpolation='nearest')\n",
    "        if i == 1+(rows*columns/2):\n",
    "            plt.yticks(np.linspace(0, num_classes-1, endpoint=True, num=8), plt_emo_labels, fontsize=20)\n",
    "        else:\n",
    "            plt.yticks([])\n",
    "        plt.xticks([])\n",
    "plt.subplots_adjust(hspace = -0.1, wspace=0.05)\n",
    "plt.savefig('plot_cls_cont.png',bbox_inches='tight',pad_inches=0.1)"
   ]
  },
  {
   "cell_type": "code",
   "execution_count": null,
   "metadata": {},
   "outputs": [],
   "source": [
    "(inputs[-1].mean())"
   ]
  },
  {
   "cell_type": "code",
   "execution_count": null,
   "metadata": {},
   "outputs": [],
   "source": [
    "pred_test[0,0]*128"
   ]
  },
  {
   "cell_type": "code",
   "execution_count": null,
   "metadata": {},
   "outputs": [],
   "source": [
    "import torchvision.transforms.functional as F"
   ]
  },
  {
   "cell_type": "code",
   "execution_count": null,
   "metadata": {},
   "outputs": [],
   "source": [
    "inp = F.resize(torch.stack(imlist), size=224)"
   ]
  },
  {
   "cell_type": "code",
   "execution_count": null,
   "metadata": {},
   "outputs": [],
   "source": [
    "inp = transforms.ToPILImage()(imlist[-1]/255.)\n",
    "inp = transforms.Resize(size=224)(inp)\n",
    "inp = transforms.ToTensor()(inp)\n",
    "inp = inp.unsqueeze(0)"
   ]
  },
  {
   "cell_type": "code",
   "execution_count": null,
   "metadata": {},
   "outputs": [],
   "source": [
    "out_inp = emo_model_ft(inp)"
   ]
  },
  {
   "cell_type": "code",
   "execution_count": null,
   "metadata": {},
   "outputs": [],
   "source": [
    "out_inp"
   ]
  },
  {
   "cell_type": "code",
   "execution_count": null,
   "metadata": {},
   "outputs": [],
   "source": [
    "outputs"
   ]
  },
  {
   "cell_type": "code",
   "execution_count": null,
   "metadata": {},
   "outputs": [],
   "source": [
    "from PIL import Image\n",
    "im = Image.open(\"./utils/landmark_utils/Classification/LndPredRafd_itl_model_20201118-134437/angry/pred_Rafd090_25_Caucasian_male_angry_frontal.JPG\")"
   ]
  },
  {
   "cell_type": "code",
   "execution_count": null,
   "metadata": {},
   "outputs": [],
   "source": [
    "imlist[-1].max()"
   ]
  },
  {
   "cell_type": "code",
   "execution_count": null,
   "metadata": {},
   "outputs": [],
   "source": [
    "inppil = transforms.Grayscale()(im)\n",
    "inppil = transforms.Resize(size=224)(inppil)\n",
    "inppil = transforms.ToTensor()(inppil)\n",
    "inppil = inppil.unsqueeze(0)"
   ]
  },
  {
   "cell_type": "code",
   "execution_count": null,
   "metadata": {},
   "outputs": [],
   "source": [
    "with torch.no_grad():\n",
    "    outpil = emo_model_ft(inppil)"
   ]
  },
  {
   "cell_type": "code",
   "execution_count": null,
   "metadata": {},
   "outputs": [],
   "source": [
    "outpil"
   ]
  },
  {
   "cell_type": "code",
   "execution_count": null,
   "metadata": {},
   "outputs": [],
   "source": [
    "sorted(os.listdir(\"./utils/landmark_utils/Classification/LndPredRafd_itl_model_20201118-134437/angry/\"))"
   ]
  },
  {
   "cell_type": "code",
   "execution_count": null,
   "metadata": {},
   "outputs": [],
   "source": [
    "test_list"
   ]
  },
  {
   "cell_type": "code",
   "execution_count": null,
   "metadata": {},
   "outputs": [],
   "source": []
  }
 ],
 "metadata": {
  "kernelspec": {
   "display_name": "Python 3",
   "language": "python",
   "name": "python3"
  },
  "language_info": {
   "codemirror_mode": {
    "name": "ipython",
    "version": 3
   },
   "file_extension": ".py",
   "mimetype": "text/x-python",
   "name": "python",
   "nbconvert_exporter": "python",
   "pygments_lexer": "ipython3",
   "version": "3.7.3"
  }
 },
 "nbformat": 4,
 "nbformat_minor": 4
}
